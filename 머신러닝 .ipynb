{
 "cells": [
  {
   "cell_type": "markdown",
   "id": "50eaa825",
   "metadata": {},
   "source": [
    "# 미스터리 사인\n",
    "주어진 수를 보고 규칙을 찾는 문제"
   ]
  },
  {
   "cell_type": "markdown",
   "id": "441242d1",
   "metadata": {},
   "source": [
    "## Question1\n",
    "   큰수+두 수의 차\n",
    "   22?7=35"
   ]
  },
  {
   "cell_type": "markdown",
   "id": "c15ab5b2",
   "metadata": {},
   "source": [
    "###  데이터 만들기"
   ]
  },
  {
   "cell_type": "code",
   "execution_count": 76,
   "id": "b065821d",
   "metadata": {},
   "outputs": [],
   "source": [
    "list1=[]\n",
    "for i in range(1,200): # 첫 번째 숫자의 범위\n",
    "    for j in range(1,200): # 두 번쨰 숫자의 범위\n",
    "        result = (i+(i-j)) if i > j else (j+(j-i))\n",
    "        list1.append([i,j,result])"
   ]
  },
  {
   "cell_type": "markdown",
   "id": "76843626",
   "metadata": {},
   "source": [
    "### 데이터 전처리"
   ]
  },
  {
   "cell_type": "code",
   "execution_count": 77,
   "id": "21017e72",
   "metadata": {},
   "outputs": [
    {
     "data": {
      "text/html": [
       "<div>\n",
       "<style scoped>\n",
       "    .dataframe tbody tr th:only-of-type {\n",
       "        vertical-align: middle;\n",
       "    }\n",
       "\n",
       "    .dataframe tbody tr th {\n",
       "        vertical-align: top;\n",
       "    }\n",
       "\n",
       "    .dataframe thead th {\n",
       "        text-align: right;\n",
       "    }\n",
       "</style>\n",
       "<table border=\"1\" class=\"dataframe\">\n",
       "  <thead>\n",
       "    <tr style=\"text-align: right;\">\n",
       "      <th></th>\n",
       "      <th>N1</th>\n",
       "      <th>N2</th>\n",
       "      <th>Result</th>\n",
       "    </tr>\n",
       "  </thead>\n",
       "  <tbody>\n",
       "    <tr>\n",
       "      <th>0</th>\n",
       "      <td>1</td>\n",
       "      <td>1</td>\n",
       "      <td>1</td>\n",
       "    </tr>\n",
       "    <tr>\n",
       "      <th>1</th>\n",
       "      <td>1</td>\n",
       "      <td>2</td>\n",
       "      <td>3</td>\n",
       "    </tr>\n",
       "    <tr>\n",
       "      <th>2</th>\n",
       "      <td>1</td>\n",
       "      <td>3</td>\n",
       "      <td>5</td>\n",
       "    </tr>\n",
       "    <tr>\n",
       "      <th>3</th>\n",
       "      <td>1</td>\n",
       "      <td>4</td>\n",
       "      <td>7</td>\n",
       "    </tr>\n",
       "    <tr>\n",
       "      <th>4</th>\n",
       "      <td>1</td>\n",
       "      <td>5</td>\n",
       "      <td>9</td>\n",
       "    </tr>\n",
       "  </tbody>\n",
       "</table>\n",
       "</div>"
      ],
      "text/plain": [
       "   N1  N2  Result\n",
       "0   1   1       1\n",
       "1   1   2       3\n",
       "2   1   3       5\n",
       "3   1   4       7\n",
       "4   1   5       9"
      ]
     },
     "execution_count": 77,
     "metadata": {},
     "output_type": "execute_result"
    }
   ],
   "source": [
    "import pandas as pd\n",
    "data1 = pd.DataFrame(list1, columns = ['N1', 'N2', 'Result'])\n",
    "data1.head()"
   ]
  },
  {
   "cell_type": "markdown",
   "id": "bd05419b",
   "metadata": {},
   "source": [
    "### 문제와 정답분석"
   ]
  },
  {
   "cell_type": "code",
   "execution_count": 78,
   "id": "ac0ebbcc",
   "metadata": {},
   "outputs": [],
   "source": [
    "x=data1.loc[:, ['N1', 'N2']]\n",
    "y=data1.loc[:,'Result']"
   ]
  },
  {
   "cell_type": "code",
   "execution_count": null,
   "id": "f2832fee",
   "metadata": {},
   "outputs": [],
   "source": []
  },
  {
   "cell_type": "markdown",
   "id": "83548d36",
   "metadata": {},
   "source": [
    "### 머신러닝 모델 불러오기"
   ]
  },
  {
   "cell_type": "code",
   "execution_count": 79,
   "id": "cf8c1e95",
   "metadata": {},
   "outputs": [],
   "source": [
    "from sklearn.ensemble import RandomForestRegressor"
   ]
  },
  {
   "cell_type": "code",
   "execution_count": 80,
   "id": "efd8b5de",
   "metadata": {},
   "outputs": [],
   "source": [
    "rf= RandomForestRegressor()"
   ]
  },
  {
   "cell_type": "markdown",
   "id": "6f38d1fc",
   "metadata": {},
   "source": [
    "### 모델 사용하기(학습)\n",
    "규칙찾기"
   ]
  },
  {
   "cell_type": "code",
   "execution_count": 81,
   "id": "9df1934a",
   "metadata": {},
   "outputs": [
    {
     "data": {
      "text/plain": [
       "RandomForestRegressor()"
      ]
     },
     "execution_count": 81,
     "metadata": {},
     "output_type": "execute_result"
    }
   ],
   "source": [
    "rf.fit(x,y)"
   ]
  },
  {
   "cell_type": "markdown",
   "id": "e8cf5530",
   "metadata": {},
   "source": [
    "### 모델 사용하기(예측)"
   ]
  },
  {
   "cell_type": "code",
   "execution_count": 82,
   "id": "1d85de67",
   "metadata": {},
   "outputs": [
    {
     "data": {
      "text/plain": [
       "array([36.99])"
      ]
     },
     "execution_count": 82,
     "metadata": {},
     "output_type": "execute_result"
    }
   ],
   "source": [
    "rf.predict([ [22, 7] ])"
   ]
  },
  {
   "cell_type": "markdown",
   "id": "f5d8d64d",
   "metadata": {},
   "source": [
    "## Question 2\n",
    "(큰수/ 작은 수)의 나머지\n",
    "4?19=3"
   ]
  },
  {
   "cell_type": "markdown",
   "id": "557445db",
   "metadata": {},
   "source": [
    "### 데이터 만들기"
   ]
  },
  {
   "cell_type": "code",
   "execution_count": 83,
   "id": "43eae4aa",
   "metadata": {},
   "outputs": [],
   "source": [
    "list2=[]\n",
    "for a in range(1,200):\n",
    "    for b in range(1,200):\n",
    "        result=(a%b) if a>b else (b%a)\n",
    "        list2.append([a,b,result])"
   ]
  },
  {
   "cell_type": "markdown",
   "id": "10c024fe",
   "metadata": {},
   "source": [
    "### 데이터 전처리"
   ]
  },
  {
   "cell_type": "code",
   "execution_count": 84,
   "id": "0c93a3c8",
   "metadata": {},
   "outputs": [
    {
     "data": {
      "text/html": [
       "<div>\n",
       "<style scoped>\n",
       "    .dataframe tbody tr th:only-of-type {\n",
       "        vertical-align: middle;\n",
       "    }\n",
       "\n",
       "    .dataframe tbody tr th {\n",
       "        vertical-align: top;\n",
       "    }\n",
       "\n",
       "    .dataframe thead th {\n",
       "        text-align: right;\n",
       "    }\n",
       "</style>\n",
       "<table border=\"1\" class=\"dataframe\">\n",
       "  <thead>\n",
       "    <tr style=\"text-align: right;\">\n",
       "      <th></th>\n",
       "      <th>N1</th>\n",
       "      <th>N2</th>\n",
       "      <th>Result</th>\n",
       "    </tr>\n",
       "  </thead>\n",
       "  <tbody>\n",
       "    <tr>\n",
       "      <th>0</th>\n",
       "      <td>1</td>\n",
       "      <td>1</td>\n",
       "      <td>0</td>\n",
       "    </tr>\n",
       "    <tr>\n",
       "      <th>1</th>\n",
       "      <td>1</td>\n",
       "      <td>2</td>\n",
       "      <td>0</td>\n",
       "    </tr>\n",
       "    <tr>\n",
       "      <th>2</th>\n",
       "      <td>1</td>\n",
       "      <td>3</td>\n",
       "      <td>0</td>\n",
       "    </tr>\n",
       "    <tr>\n",
       "      <th>3</th>\n",
       "      <td>1</td>\n",
       "      <td>4</td>\n",
       "      <td>0</td>\n",
       "    </tr>\n",
       "    <tr>\n",
       "      <th>4</th>\n",
       "      <td>1</td>\n",
       "      <td>5</td>\n",
       "      <td>0</td>\n",
       "    </tr>\n",
       "  </tbody>\n",
       "</table>\n",
       "</div>"
      ],
      "text/plain": [
       "   N1  N2  Result\n",
       "0   1   1       0\n",
       "1   1   2       0\n",
       "2   1   3       0\n",
       "3   1   4       0\n",
       "4   1   5       0"
      ]
     },
     "execution_count": 84,
     "metadata": {},
     "output_type": "execute_result"
    }
   ],
   "source": [
    "import pandas as pd\n",
    "data2 = pd.DataFrame(list2, columns = ['N1', 'N2', 'Result'])\n",
    "data2.head()"
   ]
  },
  {
   "cell_type": "markdown",
   "id": "6a814aac",
   "metadata": {},
   "source": [
    "### 문제와 정답 분리"
   ]
  },
  {
   "cell_type": "code",
   "execution_count": 85,
   "id": "77a3258d",
   "metadata": {},
   "outputs": [],
   "source": [
    "x=data2.loc[:, ['N1', 'N2']]\n",
    "y=data2.loc[:,'Result']"
   ]
  },
  {
   "cell_type": "markdown",
   "id": "10922911",
   "metadata": {},
   "source": [
    "### 머신러닝 모델 불러오기"
   ]
  },
  {
   "cell_type": "code",
   "execution_count": 86,
   "id": "194b33fd",
   "metadata": {},
   "outputs": [],
   "source": [
    "from sklearn.ensemble import RandomForestRegressor"
   ]
  },
  {
   "cell_type": "code",
   "execution_count": 87,
   "id": "e8e4b868",
   "metadata": {},
   "outputs": [],
   "source": [
    "rf= RandomForestRegressor()"
   ]
  },
  {
   "cell_type": "markdown",
   "id": "39c2b399",
   "metadata": {},
   "source": [
    "### 모델 사용하기 (학습)"
   ]
  },
  {
   "cell_type": "code",
   "execution_count": 88,
   "id": "b3579039",
   "metadata": {},
   "outputs": [
    {
     "data": {
      "text/plain": [
       "RandomForestRegressor()"
      ]
     },
     "execution_count": 88,
     "metadata": {},
     "output_type": "execute_result"
    }
   ],
   "source": [
    "rf.fit(x,y)"
   ]
  },
  {
   "cell_type": "markdown",
   "id": "f56c57ec",
   "metadata": {},
   "source": [
    "### 모델 사용하기(예측)"
   ]
  },
  {
   "cell_type": "code",
   "execution_count": 89,
   "id": "f8938b6f",
   "metadata": {},
   "outputs": [
    {
     "data": {
      "text/plain": [
       "array([2.61])"
      ]
     },
     "execution_count": 89,
     "metadata": {},
     "output_type": "execute_result"
    }
   ],
   "source": [
    "rf.predict([ [4, 19] ])"
   ]
  },
  {
   "cell_type": "code",
   "execution_count": null,
   "id": "1c54db71",
   "metadata": {},
   "outputs": [],
   "source": []
  }
 ],
 "metadata": {
  "kernelspec": {
   "display_name": "Python 3 (ipykernel)",
   "language": "python",
   "name": "python3"
  },
  "language_info": {
   "codemirror_mode": {
    "name": "ipython",
    "version": 3
   },
   "file_extension": ".py",
   "mimetype": "text/x-python",
   "name": "python",
   "nbconvert_exporter": "python",
   "pygments_lexer": "ipython3",
   "version": "3.9.7"
  },
  "toc": {
   "base_numbering": 1,
   "nav_menu": {},
   "number_sections": true,
   "sideBar": true,
   "skip_h1_title": false,
   "title_cell": "Table of Contents",
   "title_sidebar": "Contents",
   "toc_cell": false,
   "toc_position": {},
   "toc_section_display": true,
   "toc_window_display": true
  }
 },
 "nbformat": 4,
 "nbformat_minor": 5
}
